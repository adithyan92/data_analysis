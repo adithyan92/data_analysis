{
 "cells": [
  {
   "cell_type": "code",
   "execution_count": 1,
   "id": "50ec9eff",
   "metadata": {
    "_cell_guid": "b1076dfc-b9ad-4769-8c92-a6c4dae69d19",
    "_uuid": "8f2839f25d086af736a60e9eeb907d3b93b6e0e5",
    "execution": {
     "iopub.execute_input": "2023-02-28T20:51:12.271300Z",
     "iopub.status.busy": "2023-02-28T20:51:12.270672Z",
     "iopub.status.idle": "2023-02-28T20:51:12.300239Z",
     "shell.execute_reply": "2023-02-28T20:51:12.299259Z"
    },
    "papermill": {
     "duration": 0.044613,
     "end_time": "2023-02-28T20:51:12.304157",
     "exception": false,
     "start_time": "2023-02-28T20:51:12.259544",
     "status": "completed"
    },
    "tags": []
   },
   "outputs": [
    {
     "name": "stdout",
     "output_type": "stream",
     "text": [
      "/kaggle/input/youtube-trending-video-dataset/MX_youtube_trending_data.csv\n",
      "/kaggle/input/youtube-trending-video-dataset/GB_youtube_trending_data.csv\n",
      "/kaggle/input/youtube-trending-video-dataset/BR_category_id.json\n",
      "/kaggle/input/youtube-trending-video-dataset/FR_youtube_trending_data.csv\n",
      "/kaggle/input/youtube-trending-video-dataset/IN_youtube_trending_data.csv\n",
      "/kaggle/input/youtube-trending-video-dataset/MX_category_id.json\n",
      "/kaggle/input/youtube-trending-video-dataset/GB_category_id.json\n",
      "/kaggle/input/youtube-trending-video-dataset/US_category_id.json\n",
      "/kaggle/input/youtube-trending-video-dataset/BR_youtube_trending_data.csv\n",
      "/kaggle/input/youtube-trending-video-dataset/RU_youtube_trending_data.csv\n",
      "/kaggle/input/youtube-trending-video-dataset/IN_category_id.json\n",
      "/kaggle/input/youtube-trending-video-dataset/KR_category_id.json\n",
      "/kaggle/input/youtube-trending-video-dataset/DE_youtube_trending_data.csv\n",
      "/kaggle/input/youtube-trending-video-dataset/RU_category_id.json\n",
      "/kaggle/input/youtube-trending-video-dataset/US_youtube_trending_data.csv\n",
      "/kaggle/input/youtube-trending-video-dataset/JP_youtube_trending_data.csv\n",
      "/kaggle/input/youtube-trending-video-dataset/CA_category_id.json\n",
      "/kaggle/input/youtube-trending-video-dataset/DE_category_id.json\n",
      "/kaggle/input/youtube-trending-video-dataset/KR_youtube_trending_data.csv\n",
      "/kaggle/input/youtube-trending-video-dataset/JP_category_id.json\n",
      "/kaggle/input/youtube-trending-video-dataset/CA_youtube_trending_data.csv\n",
      "/kaggle/input/youtube-trending-video-dataset/FR_category_id.json\n"
     ]
    }
   ],
   "source": [
    "# This Python 3 environment comes with many helpful analytics libraries installed\n",
    "# It is defined by the kaggle/python Docker image: https://github.com/kaggle/docker-python\n",
    "# For example, here's several helpful packages to load\n",
    "\n",
    "import numpy as np # linear algebra\n",
    "import pandas as pd # data processing, CSV file I/O (e.g. pd.read_csv)\n",
    "\n",
    "# Input data files are available in the read-only \"../input/\" directory\n",
    "# For example, running this (by clicking run or pressing Shift+Enter) will list all files under the input directory\n",
    "\n",
    "import os\n",
    "for dirname, _, filenames in os.walk('/kaggle/input'):\n",
    "    for filename in filenames:\n",
    "        print(os.path.join(dirname, filename))\n",
    "\n",
    "# You can write up to 20GB to the current directory (/kaggle/working/) that gets preserved as output when you create a version using \"Save & Run All\" \n",
    "# You can also write temporary files to /kaggle/temp/, but they won't be saved outside of the current session"
   ]
  },
  {
   "cell_type": "code",
   "execution_count": 2,
   "id": "367632d4",
   "metadata": {
    "execution": {
     "iopub.execute_input": "2023-02-28T20:51:12.320754Z",
     "iopub.status.busy": "2023-02-28T20:51:12.320344Z",
     "iopub.status.idle": "2023-02-28T20:51:15.512583Z",
     "shell.execute_reply": "2023-02-28T20:51:15.510928Z"
    },
    "papermill": {
     "duration": 3.204321,
     "end_time": "2023-02-28T20:51:15.515866",
     "exception": false,
     "start_time": "2023-02-28T20:51:12.311545",
     "status": "completed"
    },
    "tags": []
   },
   "outputs": [],
   "source": [
    "import matplotlib.pyplot as plt\n",
    "import seaborn as sns\n",
    "import plotly.express as px\n",
    "import datetime"
   ]
  },
  {
   "cell_type": "code",
   "execution_count": 3,
   "id": "492dd744",
   "metadata": {
    "execution": {
     "iopub.execute_input": "2023-02-28T20:51:15.532972Z",
     "iopub.status.busy": "2023-02-28T20:51:15.531537Z",
     "iopub.status.idle": "2023-02-28T20:51:23.086594Z",
     "shell.execute_reply": "2023-02-28T20:51:23.084085Z"
    },
    "papermill": {
     "duration": 7.566426,
     "end_time": "2023-02-28T20:51:23.089340",
     "exception": false,
     "start_time": "2023-02-28T20:51:15.522914",
     "status": "completed"
    },
    "tags": []
   },
   "outputs": [
    {
     "name": "stdout",
     "output_type": "stream",
     "text": [
      "<class 'pandas.core.frame.DataFrame'>\n",
      "RangeIndex: 178473 entries, 0 to 178472\n",
      "Data columns (total 16 columns):\n",
      " #   Column             Non-Null Count   Dtype \n",
      "---  ------             --------------   ----- \n",
      " 0   video_id           178473 non-null  object\n",
      " 1   title              178473 non-null  object\n",
      " 2   publishedAt        178473 non-null  object\n",
      " 3   channelId          178473 non-null  object\n",
      " 4   channelTitle       178472 non-null  object\n",
      " 5   categoryId         178473 non-null  int64 \n",
      " 6   trending_date      178473 non-null  object\n",
      " 7   tags               178473 non-null  object\n",
      " 8   view_count         178473 non-null  int64 \n",
      " 9   likes              178473 non-null  int64 \n",
      " 10  dislikes           178473 non-null  int64 \n",
      " 11  comment_count      178473 non-null  int64 \n",
      " 12  thumbnail_link     178473 non-null  object\n",
      " 13  comments_disabled  178473 non-null  bool  \n",
      " 14  ratings_disabled   178473 non-null  bool  \n",
      " 15  description        161249 non-null  object\n",
      "dtypes: bool(2), int64(5), object(9)\n",
      "memory usage: 19.4+ MB\n"
     ]
    }
   ],
   "source": [
    "youtube_in = pd.read_csv('/kaggle/input/youtube-trending-video-dataset/IN_youtube_trending_data.csv')\n",
    "youtube_in.head(10)\n",
    "youtube_in.info()"
   ]
  },
  {
   "cell_type": "code",
   "execution_count": 4,
   "id": "9023c220",
   "metadata": {
    "execution": {
     "iopub.execute_input": "2023-02-28T20:51:23.107865Z",
     "iopub.status.busy": "2023-02-28T20:51:23.107414Z",
     "iopub.status.idle": "2023-02-28T20:51:23.500686Z",
     "shell.execute_reply": "2023-02-28T20:51:23.499441Z"
    },
    "papermill": {
     "duration": 0.405985,
     "end_time": "2023-02-28T20:51:23.504585",
     "exception": false,
     "start_time": "2023-02-28T20:51:23.098600",
     "status": "completed"
    },
    "tags": []
   },
   "outputs": [],
   "source": [
    "youtube_in['trending_date']=pd.to_datetime(youtube_in['trending_date'],infer_datetime_format=True)\n",
    "\n",
    "youtube_in['publishedAt']=pd.to_datetime(youtube_in['publishedAt'],infer_datetime_format=True)"
   ]
  },
  {
   "cell_type": "code",
   "execution_count": 5,
   "id": "0f581082",
   "metadata": {
    "execution": {
     "iopub.execute_input": "2023-02-28T20:51:23.525070Z",
     "iopub.status.busy": "2023-02-28T20:51:23.524600Z",
     "iopub.status.idle": "2023-02-28T20:51:23.614702Z",
     "shell.execute_reply": "2023-02-28T20:51:23.613396Z"
    },
    "papermill": {
     "duration": 0.103552,
     "end_time": "2023-02-28T20:51:23.619072",
     "exception": false,
     "start_time": "2023-02-28T20:51:23.515520",
     "status": "completed"
    },
    "tags": []
   },
   "outputs": [],
   "source": [
    "youtube_in.dropna(subset=['channelTitle'],inplace=True)\n",
    "\n",
    "youtube_in_2022 = youtube_in.loc[youtube_in['trending_date'].dt.year==2022]"
   ]
  },
  {
   "cell_type": "code",
   "execution_count": 6,
   "id": "08b5e572",
   "metadata": {
    "execution": {
     "iopub.execute_input": "2023-02-28T20:51:23.642561Z",
     "iopub.status.busy": "2023-02-28T20:51:23.641342Z",
     "iopub.status.idle": "2023-02-28T20:51:23.688947Z",
     "shell.execute_reply": "2023-02-28T20:51:23.686095Z"
    },
    "papermill": {
     "duration": 0.063524,
     "end_time": "2023-02-28T20:51:23.693299",
     "exception": false,
     "start_time": "2023-02-28T20:51:23.629775",
     "status": "completed"
    },
    "tags": []
   },
   "outputs": [
    {
     "name": "stdout",
     "output_type": "stream",
     "text": [
      "<class 'pandas.core.frame.DataFrame'>\n",
      "Int64Index: 71056 entries, 96560 to 167615\n",
      "Data columns (total 16 columns):\n",
      " #   Column             Non-Null Count  Dtype         \n",
      "---  ------             --------------  -----         \n",
      " 0   video_id           71056 non-null  object        \n",
      " 1   title              71056 non-null  object        \n",
      " 2   publishedAt        71056 non-null  datetime64[ns]\n",
      " 3   channelId          71056 non-null  object        \n",
      " 4   channelTitle       71056 non-null  object        \n",
      " 5   categoryId         71056 non-null  int64         \n",
      " 6   trending_date      71056 non-null  datetime64[ns]\n",
      " 7   tags               71056 non-null  object        \n",
      " 8   view_count         71056 non-null  int64         \n",
      " 9   likes              71056 non-null  int64         \n",
      " 10  dislikes           71056 non-null  int64         \n",
      " 11  comment_count      71056 non-null  int64         \n",
      " 12  thumbnail_link     71056 non-null  object        \n",
      " 13  comments_disabled  71056 non-null  bool          \n",
      " 14  ratings_disabled   71056 non-null  bool          \n",
      " 15  description        57991 non-null  object        \n",
      "dtypes: bool(2), datetime64[ns](2), int64(5), object(7)\n",
      "memory usage: 8.3+ MB\n"
     ]
    }
   ],
   "source": [
    "youtube_in_2022.info()"
   ]
  },
  {
   "cell_type": "code",
   "execution_count": 7,
   "id": "1a74cc96",
   "metadata": {
    "execution": {
     "iopub.execute_input": "2023-02-28T20:51:23.716756Z",
     "iopub.status.busy": "2023-02-28T20:51:23.715760Z",
     "iopub.status.idle": "2023-02-28T20:51:23.823145Z",
     "shell.execute_reply": "2023-02-28T20:51:23.821388Z"
    },
    "papermill": {
     "duration": 0.121942,
     "end_time": "2023-02-28T20:51:23.826097",
     "exception": false,
     "start_time": "2023-02-28T20:51:23.704155",
     "status": "completed"
    },
    "tags": []
   },
   "outputs": [
    {
     "name": "stderr",
     "output_type": "stream",
     "text": [
      "/opt/conda/lib/python3.7/site-packages/pandas/core/frame.py:5047: SettingWithCopyWarning: \n",
      "A value is trying to be set on a copy of a slice from a DataFrame\n",
      "\n",
      "See the caveats in the documentation: https://pandas.pydata.org/pandas-docs/stable/user_guide/indexing.html#returning-a-view-versus-a-copy\n",
      "  errors=errors,\n"
     ]
    }
   ],
   "source": [
    "video_views = youtube_in_2022[['video_id','channelTitle','view_count','tags']]\n",
    "video_views = video_views[~video_views.duplicated()]\n",
    "channel_views = video_views.groupby(['channelTitle'])['view_count'].sum().reset_index(name = 'Total Views')\n",
    "channel_views_sorted = channel_views.sort_values(by=\"Total Views\", ascending = False)\n",
    "channel_views_top5 = channel_views_sorted.head()\n",
    "#channel_views_top5 = channel_views_top5.sort_values(by=\"Total Views\")\n",
    "channel_views_top5.rename(columns={'channelTitle': 'Channel'},inplace=True)"
   ]
  },
  {
   "cell_type": "code",
   "execution_count": 8,
   "id": "35c722c4",
   "metadata": {
    "execution": {
     "iopub.execute_input": "2023-02-28T20:51:23.842592Z",
     "iopub.status.busy": "2023-02-28T20:51:23.842148Z",
     "iopub.status.idle": "2023-02-28T20:51:24.131736Z",
     "shell.execute_reply": "2023-02-28T20:51:24.130403Z"
    },
    "papermill": {
     "duration": 0.300862,
     "end_time": "2023-02-28T20:51:24.134391",
     "exception": false,
     "start_time": "2023-02-28T20:51:23.833529",
     "status": "completed"
    },
    "tags": []
   },
   "outputs": [
    {
     "data": {
      "text/plain": [
       "[Text(0.5, 1.0, 'Top Viewed Channels in 2022')]"
      ]
     },
     "execution_count": 8,
     "metadata": {},
     "output_type": "execute_result"
    },
    {
     "data": {
      "image/png": "[encoded data removed]",
      "text/plain": [
       "<Figure size 640x480 with 1 Axes>"
      ]
     },
     "metadata": {},
     "output_type": "display_data"
    }
   ],
   "source": [
    "sns.barplot(x=channel_views_top5['Total Views'],y=channel_views_top5['Channel'],palette = 'pastel').set(title='Top Viewed Channels in 2022')\n"
   ]
  },
  {
   "cell_type": "code",
   "execution_count": 9,
   "id": "0a943420",
   "metadata": {
    "execution": {
     "iopub.execute_input": "2023-02-28T20:51:24.152847Z",
     "iopub.status.busy": "2023-02-28T20:51:24.151692Z",
     "iopub.status.idle": "2023-02-28T20:51:27.824702Z",
     "shell.execute_reply": "2023-02-28T20:51:27.823298Z"
    },
    "papermill": {
     "duration": 3.685448,
     "end_time": "2023-02-28T20:51:27.827571",
     "exception": false,
     "start_time": "2023-02-28T20:51:24.142123",
     "status": "completed"
    },
    "tags": []
   },
   "outputs": [
    {
     "data": {
      "text/html": [
       "        <script type=\"text/javascript\">\n",
       "        window.PlotlyConfig = {MathJaxConfig: 'local'};\n",
       "        if (window.MathJax && window.MathJax.Hub && window.MathJax.Hub.Config) {window.MathJax.Hub.Config({SVG: {font: \"STIX-Web\"}});}\n",
       "        if (typeof require !== 'undefined') {\n",
       "        require.undef(\"plotly\");\n",
       "        requirejs.config({\n",
       "            paths: {\n",
       "                'plotly': ['https://cdn.plot.ly/plotly-2.18.0.min']\n",
       "            }\n",
       "        });\n",
       "        require(['plotly'], function(Plotly) {\n",
       "            window._Plotly = Plotly;\n",
       "        });\n",
       "        }\n",
       "        </script>\n",
       "        "
      ]
     },
     "metadata": {},
     "output_type": "display_data"
    },
    {
     "data": {
      "text/html": [
       "<div>                            <div id=\"79036c3f-81f1-4168-b300-765dd8677ad5\" class=\"plotly-graph-div\" style=\"height:525px; width:100%;\"></div>            <script type=\"text/javascript\">                require([\"plotly\"], function(Plotly) {                    window.PLOTLYENV=window.PLOTLYENV || {};                                    if (document.getElementById(\"79036c3f-81f1-4168-b300-765dd8677ad5\")) {                    Plotly.newPlot(                        \"79036c3f-81f1-4168-b300-765dd8677ad5\",                        [{\"alignmentgroup\":\"True\",\"hovertemplate\":\"Number of Videos=%{x}<br>Tag=%{y}<extra></extra>\",\"legendgroup\":\"\",\"marker\":{\"color\":\"#636efa\",\"pattern\":{\"shape\":\"\"}},\"name\":\"\",\"offsetgroup\":\"\",\"orientation\":\"h\",\"showlegend\":false,\"textposition\":\"auto\",\"x\":[1092,1092,1140,1145,1331,1661,2046,2262,2828,3173],\"xaxis\":\"x\",\"y\":[\"youtube shorts\",\"family vlogs\",\"sourav joshi\",\"Shorts\",\"vlogs\",\"vlog\",\"trending\",\"funny\",\"shorts\",\"comedy\"],\"yaxis\":\"y\",\"type\":\"bar\"}],                        {\"template\":{\"data\":{\"histogram2dcontour\":[{\"type\":\"histogram2dcontour\",\"colorbar\":{\"outlinewidth\":0,\"ticks\":\"\"},\"colorscale\":[[0.0,\"#0d0887\"],[0.1111111111111111,\"#46039f\"],[0.2222222222222222,\"#7201a8\"],[0.3333333333333333,\"#9c179e\"],[0.4444444444444444,\"#bd3786\"],[0.5555555555555556,\"#d8576b\"],[0.6666666666666666,\"#ed7953\"],[0.7777777777777778,\"#fb9f3a\"],[0.8888888888888888,\"#fdca26\"],[1.0,\"#f0f921\"]]}],\"choropleth\":[{\"type\":\"choropleth\",\"colorbar\":{\"outlinewidth\":0,\"ticks\":\"\"}}],\"histogram2d\":[{\"type\":\"histogram2d\",\"colorbar\":{\"outlinewidth\":0,\"ticks\":\"\"},\"colorscale\":[[0.0,\"#0d0887\"],[0.1111111111111111,\"#46039f\"],[0.2222222222222222,\"#7201a8\"],[0.3333333333333333,\"#9c179e\"],[0.4444444444444444,\"#bd3786\"],[0.5555555555555556,\"#d8576b\"],[0.6666666666666666,\"#ed7953\"],[0.7777777777777778,\"#fb9f3a\"],[0.8888888888888888,\"#fdca26\"],[1.0,\"#f0f921\"]]}],\"heatmap\":[{\"type\":\"heatmap\",\"colorbar\":{\"outlinewidth\":0,\"ticks\":\"\"},\"colorscale\":[[0.0,\"#0d0887\"],[0.1111111111111111,\"#46039f\"],[0.2222222222222222,\"#7201a8\"],[0.3333333333333333,\"#9c179e\"],[0.4444444444444444,\"#bd3786\"],[0.5555555555555556,\"#d8576b\"],[0.6666666666666666,\"#ed7953\"],[0.7777777777777778,\"#fb9f3a\"],[0.8888888888888888,\"#fdca26\"],[1.0,\"#f0f921\"]]}],\"heatmapgl\":[{\"type\":\"heatmapgl\",\"colorbar\":{\"outlinewidth\":0,\"ticks\":\"\"},\"colorscale\":[[0.0,\"#0d0887\"],[0.1111111111111111,\"#46039f\"],[0.2222222222222222,\"#7201a8\"],[0.3333333333333333,\"#9c179e\"],[0.4444444444444444,\"#bd3786\"],[0.5555555555555556,\"#d8576b\"],[0.6666666666666666,\"#ed7953\"],[0.7777777777777778,\"#fb9f3a\"],[0.8888888888888888,\"#fdca26\"],[1.0,\"#f0f921\"]]}],\"contourcarpet\":[{\"type\":\"contourcarpet\",\"colorbar\":{\"outlinewidth\":0,\"ticks\":\"\"}}],\"contour\":[{\"type\":\"contour\",\"colorbar\":{\"outlinewidth\":0,\"ticks\":\"\"},\"colorscale\":[[0.0,\"#0d0887\"],[0.1111111111111111,\"#46039f\"],[0.2222222222222222,\"#7201a8\"],[0.3333333333333333,\"#9c179e\"],[0.4444444444444444,\"#bd3786\"],[0.5555555555555556,\"#d8576b\"],[0.6666666666666666,\"#ed7953\"],[0.7777777777777778,\"#fb9f3a\"],[0.8888888888888888,\"#fdca26\"],[1.0,\"#f0f921\"]]}],\"surface\":[{\"type\":\"surface\",\"colorbar\":{\"outlinewidth\":0,\"ticks\":\"\"},\"colorscale\":[[0.0,\"#0d0887\"],[0.1111111111111111,\"#46039f\"],[0.2222222222222222,\"#7201a8\"],[0.3333333333333333,\"#9c179e\"],[0.4444444444444444,\"#bd3786\"],[0.5555555555555556,\"#d8576b\"],[0.6666666666666666,\"#ed7953\"],[0.7777777777777778,\"#fb9f3a\"],[0.8888888888888888,\"#fdca26\"],[1.0,\"#f0f921\"]]}],\"mesh3d\":[{\"type\":\"mesh3d\",\"colorbar\":{\"outlinewidth\":0,\"ticks\":\"\"}}],\"scatter\":[{\"fillpattern\":{\"fillmode\":\"overlay\",\"size\":10,\"solidity\":0.2},\"type\":\"scatter\"}],\"parcoords\":[{\"type\":\"parcoords\",\"line\":{\"colorbar\":{\"outlinewidth\":0,\"ticks\":\"\"}}}],\"scatterpolargl\":[{\"type\":\"scatterpolargl\",\"marker\":{\"colorbar\":{\"outlinewidth\":0,\"ticks\":\"\"}}}],\"bar\":[{\"error_x\":{\"color\":\"#2a3f5f\"},\"error_y\":{\"color\":\"#2a3f5f\"},\"marker\":{\"line\":{\"color\":\"#E5ECF6\",\"width\":0.5},\"pattern\":{\"fillmode\":\"overlay\",\"size\":10,\"solidity\":0.2}},\"type\":\"bar\"}],\"scattergeo\":[{\"type\":\"scattergeo\",\"marker\":{\"colorbar\":{\"outlinewidth\":0,\"ticks\":\"\"}}}],\"scatterpolar\":[{\"type\":\"scatterpolar\",\"marker\":{\"colorbar\":{\"outlinewidth\":0,\"ticks\":\"\"}}}],\"histogram\":[{\"marker\":{\"pattern\":{\"fillmode\":\"overlay\",\"size\":10,\"solidity\":0.2}},\"type\":\"histogram\"}],\"scattergl\":[{\"type\":\"scattergl\",\"marker\":{\"colorbar\":{\"outlinewidth\":0,\"ticks\":\"\"}}}],\"scatter3d\":[{\"type\":\"scatter3d\",\"line\":{\"colorbar\":{\"outlinewidth\":0,\"ticks\":\"\"}},\"marker\":{\"colorbar\":{\"outlinewidth\":0,\"ticks\":\"\"}}}],\"scattermapbox\":[{\"type\":\"scattermapbox\",\"marker\":{\"colorbar\":{\"outlinewidth\":0,\"ticks\":\"\"}}}],\"scatterternary\":[{\"type\":\"scatterternary\",\"marker\":{\"colorbar\":{\"outlinewidth\":0,\"ticks\":\"\"}}}],\"scattercarpet\":[{\"type\":\"scattercarpet\",\"marker\":{\"colorbar\":{\"outlinewidth\":0,\"ticks\":\"\"}}}],\"carpet\":[{\"aaxis\":{\"endlinecolor\":\"#2a3f5f\",\"gridcolor\":\"white\",\"linecolor\":\"white\",\"minorgridcolor\":\"white\",\"startlinecolor\":\"#2a3f5f\"},\"baxis\":{\"endlinecolor\":\"#2a3f5f\",\"gridcolor\":\"white\",\"linecolor\":\"white\",\"minorgridcolor\":\"white\",\"startlinecolor\":\"#2a3f5f\"},\"type\":\"carpet\"}],\"table\":[{\"cells\":{\"fill\":{\"color\":\"#EBF0F8\"},\"line\":{\"color\":\"white\"}},\"header\":{\"fill\":{\"color\":\"#C8D4E3\"},\"line\":{\"color\":\"white\"}},\"type\":\"table\"}],\"barpolar\":[{\"marker\":{\"line\":{\"color\":\"#E5ECF6\",\"width\":0.5},\"pattern\":{\"fillmode\":\"overlay\",\"size\":10,\"solidity\":0.2}},\"type\":\"barpolar\"}],\"pie\":[{\"automargin\":true,\"type\":\"pie\"}]},\"layout\":{\"autotypenumbers\":\"strict\",\"colorway\":[\"#636efa\",\"#EF553B\",\"#00cc96\",\"#ab63fa\",\"#FFA15A\",\"#19d3f3\",\"#FF6692\",\"#B6E880\",\"#FF97FF\",\"#FECB52\"],\"font\":{\"color\":\"#2a3f5f\"},\"hovermode\":\"closest\",\"hoverlabel\":{\"align\":\"left\"},\"paper_bgcolor\":\"white\",\"plot_bgcolor\":\"#E5ECF6\",\"polar\":{\"bgcolor\":\"#E5ECF6\",\"angularaxis\":{\"gridcolor\":\"white\",\"linecolor\":\"white\",\"ticks\":\"\"},\"radialaxis\":{\"gridcolor\":\"white\",\"linecolor\":\"white\",\"ticks\":\"\"}},\"ternary\":{\"bgcolor\":\"#E5ECF6\",\"aaxis\":{\"gridcolor\":\"white\",\"linecolor\":\"white\",\"ticks\":\"\"},\"baxis\":{\"gridcolor\":\"white\",\"linecolor\":\"white\",\"ticks\":\"\"},\"caxis\":{\"gridcolor\":\"white\",\"linecolor\":\"white\",\"ticks\":\"\"}},\"coloraxis\":{\"colorbar\":{\"outlinewidth\":0,\"ticks\":\"\"}},\"colorscale\":{\"sequential\":[[0.0,\"#0d0887\"],[0.1111111111111111,\"#46039f\"],[0.2222222222222222,\"#7201a8\"],[0.3333333333333333,\"#9c179e\"],[0.4444444444444444,\"#bd3786\"],[0.5555555555555556,\"#d8576b\"],[0.6666666666666666,\"#ed7953\"],[0.7777777777777778,\"#fb9f3a\"],[0.8888888888888888,\"#fdca26\"],[1.0,\"#f0f921\"]],\"sequentialminus\":[[0.0,\"#0d0887\"],[0.1111111111111111,\"#46039f\"],[0.2222222222222222,\"#7201a8\"],[0.3333333333333333,\"#9c179e\"],[0.4444444444444444,\"#bd3786\"],[0.5555555555555556,\"#d8576b\"],[0.6666666666666666,\"#ed7953\"],[0.7777777777777778,\"#fb9f3a\"],[0.8888888888888888,\"#fdca26\"],[1.0,\"#f0f921\"]],\"diverging\":[[0,\"#8e0152\"],[0.1,\"#c51b7d\"],[0.2,\"#de77ae\"],[0.3,\"#f1b6da\"],[0.4,\"#fde0ef\"],[0.5,\"#f7f7f7\"],[0.6,\"#e6f5d0\"],[0.7,\"#b8e186\"],[0.8,\"#7fbc41\"],[0.9,\"#4d9221\"],[1,\"#276419\"]]},\"xaxis\":{\"gridcolor\":\"white\",\"linecolor\":\"white\",\"ticks\":\"\",\"title\":{\"standoff\":15},\"zerolinecolor\":\"white\",\"automargin\":true,\"zerolinewidth\":2},\"yaxis\":{\"gridcolor\":\"white\",\"linecolor\":\"white\",\"ticks\":\"\",\"title\":{\"standoff\":15},\"zerolinecolor\":\"white\",\"automargin\":true,\"zerolinewidth\":2},\"scene\":{\"xaxis\":{\"backgroundcolor\":\"#E5ECF6\",\"gridcolor\":\"white\",\"linecolor\":\"white\",\"showbackground\":true,\"ticks\":\"\",\"zerolinecolor\":\"white\",\"gridwidth\":2},\"yaxis\":{\"backgroundcolor\":\"#E5ECF6\",\"gridcolor\":\"white\",\"linecolor\":\"white\",\"showbackground\":true,\"ticks\":\"\",\"zerolinecolor\":\"white\",\"gridwidth\":2},\"zaxis\":{\"backgroundcolor\":\"#E5ECF6\",\"gridcolor\":\"white\",\"linecolor\":\"white\",\"showbackground\":true,\"ticks\":\"\",\"zerolinecolor\":\"white\",\"gridwidth\":2}},\"shapedefaults\":{\"line\":{\"color\":\"#2a3f5f\"}},\"annotationdefaults\":{\"arrowcolor\":\"#2a3f5f\",\"arrowhead\":0,\"arrowwidth\":1},\"geo\":{\"bgcolor\":\"white\",\"landcolor\":\"#E5ECF6\",\"subunitcolor\":\"white\",\"showland\":true,\"showlakes\":true,\"lakecolor\":\"white\"},\"title\":{\"x\":0.05},\"mapbox\":{\"style\":\"light\"}}},\"xaxis\":{\"anchor\":\"y\",\"domain\":[0.0,1.0],\"title\":{\"text\":\"Number of Videos\"}},\"yaxis\":{\"anchor\":\"x\",\"domain\":[0.0,1.0],\"title\":{\"text\":\"Tag\"}},\"legend\":{\"tracegroupgap\":0},\"title\":{\"text\":\"Top 10 trending tags in India 2022\"},\"barmode\":\"relative\"},                        {\"responsive\": true}                    ).then(function(){\n",
       "                            \n",
       "var gd = document.getElementById('79036c3f-81f1-4168-b300-765dd8677ad5');\n",
       "var x = new MutationObserver(function (mutations, observer) {{\n",
       "        var display = window.getComputedStyle(gd).display;\n",
       "        if (!display || display === 'none') {{\n",
       "            console.log([gd, 'removed!']);\n",
       "            Plotly.purge(gd);\n",
       "            observer.disconnect();\n",
       "        }}\n",
       "}});\n",
       "\n",
       "// Listen for the removal of the full notebook cells\n",
       "var notebookContainer = gd.closest('#notebook-container');\n",
       "if (notebookContainer) {{\n",
       "    x.observe(notebookContainer, {childList: true});\n",
       "}}\n",
       "\n",
       "// Listen for the clearing of the current output cell\n",
       "var outputEl = gd.closest('.output');\n",
       "if (outputEl) {{\n",
       "    x.observe(outputEl, {childList: true});\n",
       "}}\n",
       "\n",
       "                        })                };                });            </script>        </div>"
      ]
     },
     "metadata": {},
     "output_type": "display_data"
    }
   ],
   "source": [
    "filtered_tags=pd.DataFrame()\n",
    "filtered_tags=video_views['tags'].str.split('|',expand=True).stack()\n",
    "filtered_tags=filtered_tags.to_frame()\n",
    "filtered_tags.columns = ['Tag']\n",
    "Tags = filtered_tags.groupby([\"Tag\"]).size().reset_index(name = \"Number of Videos\")\n",
    "Tags = Tags[Tags.Tag != \"[None]\"]\n",
    "Tags_sorted = Tags.sort_values(by=\"Number of Videos\", ascending = False)\n",
    "Tags_top10 = Tags_sorted.head(10)\n",
    "Tags_top10 = Tags_top10.sort_values(by=\"Number of Videos\")\n",
    "fig2 = px.bar(Tags_top10,x = \"Number of Videos\", y = \"Tag\",title = \"Top 10 trending tags in India 2022\")\n",
    "fig2.show()"
   ]
  },
  {
   "cell_type": "code",
   "execution_count": 10,
   "id": "58edfeb8",
   "metadata": {
    "execution": {
     "iopub.execute_input": "2023-02-28T20:51:27.846073Z",
     "iopub.status.busy": "2023-02-28T20:51:27.845589Z",
     "iopub.status.idle": "2023-02-28T20:51:27.853963Z",
     "shell.execute_reply": "2023-02-28T20:51:27.852235Z"
    },
    "papermill": {
     "duration": 0.021287,
     "end_time": "2023-02-28T20:51:27.857124",
     "exception": false,
     "start_time": "2023-02-28T20:51:27.835837",
     "status": "completed"
    },
    "tags": []
   },
   "outputs": [
    {
     "name": "stdout",
     "output_type": "stream",
     "text": [
      "Data from 2022-01-01 00:00:00 to 2022-12-31 00:00:00\n"
     ]
    }
   ],
   "source": [
    "print('Data from',youtube_in_2022['trending_date'].min(),'to',youtube_in_2022['trending_date'].max())"
   ]
  },
  {
   "cell_type": "code",
   "execution_count": 11,
   "id": "e351b42f",
   "metadata": {
    "execution": {
     "iopub.execute_input": "2023-02-28T20:51:27.878005Z",
     "iopub.status.busy": "2023-02-28T20:51:27.876967Z",
     "iopub.status.idle": "2023-02-28T20:51:27.908806Z",
     "shell.execute_reply": "2023-02-28T20:51:27.907292Z"
    },
    "papermill": {
     "duration": 0.04615,
     "end_time": "2023-02-28T20:51:27.912712",
     "exception": false,
     "start_time": "2023-02-28T20:51:27.866562",
     "status": "completed"
    },
    "tags": []
   },
   "outputs": [
    {
     "name": "stderr",
     "output_type": "stream",
     "text": [
      "/opt/conda/lib/python3.7/site-packages/ipykernel_launcher.py:1: SettingWithCopyWarning:\n",
      "\n",
      "\n",
      "A value is trying to be set on a copy of a slice from a DataFrame.\n",
      "Try using .loc[row_indexer,col_indexer] = value instead\n",
      "\n",
      "See the caveats in the documentation: https://pandas.pydata.org/pandas-docs/stable/user_guide/indexing.html#returning-a-view-versus-a-copy\n",
      "\n",
      "/opt/conda/lib/python3.7/site-packages/ipykernel_launcher.py:2: SettingWithCopyWarning:\n",
      "\n",
      "\n",
      "A value is trying to be set on a copy of a slice from a DataFrame.\n",
      "Try using .loc[row_indexer,col_indexer] = value instead\n",
      "\n",
      "See the caveats in the documentation: https://pandas.pydata.org/pandas-docs/stable/user_guide/indexing.html#returning-a-view-versus-a-copy\n",
      "\n",
      "/opt/conda/lib/python3.7/site-packages/ipykernel_launcher.py:3: SettingWithCopyWarning:\n",
      "\n",
      "\n",
      "A value is trying to be set on a copy of a slice from a DataFrame.\n",
      "Try using .loc[row_indexer,col_indexer] = value instead\n",
      "\n",
      "See the caveats in the documentation: https://pandas.pydata.org/pandas-docs/stable/user_guide/indexing.html#returning-a-view-versus-a-copy\n",
      "\n"
     ]
    }
   ],
   "source": [
    "youtube_in_2022['trending_day']=youtube_in_2022['trending_date'].dt.day\n",
    "youtube_in_2022['trending_month']=youtube_in_2022['trending_date'].dt.month\n",
    "youtube_in_2022['trending_year']=youtube_in_2022['trending_date'].dt.year"
   ]
  },
  {
   "cell_type": "code",
   "execution_count": 12,
   "id": "b5078148",
   "metadata": {
    "execution": {
     "iopub.execute_input": "2023-02-28T20:51:27.933096Z",
     "iopub.status.busy": "2023-02-28T20:51:27.932611Z",
     "iopub.status.idle": "2023-02-28T20:51:27.971116Z",
     "shell.execute_reply": "2023-02-28T20:51:27.970219Z"
    },
    "papermill": {
     "duration": 0.051709,
     "end_time": "2023-02-28T20:51:27.973728",
     "exception": false,
     "start_time": "2023-02-28T20:51:27.922019",
     "status": "completed"
    },
    "tags": []
   },
   "outputs": [
    {
     "data": {
      "text/html": [
       "<div>\n",
       "<style scoped>\n",
       "    .dataframe tbody tr th:only-of-type {\n",
       "        vertical-align: middle;\n",
       "    }\n",
       "\n",
       "    .dataframe tbody tr th {\n",
       "        vertical-align: top;\n",
       "    }\n",
       "\n",
       "    .dataframe thead th {\n",
       "        text-align: right;\n",
       "    }\n",
       "</style>\n",
       "<table border=\"1\" class=\"dataframe\">\n",
       "  <thead>\n",
       "    <tr style=\"text-align: right;\">\n",
       "      <th></th>\n",
       "      <th>kind</th>\n",
       "      <th>etag</th>\n",
       "      <th>items</th>\n",
       "    </tr>\n",
       "  </thead>\n",
       "  <tbody>\n",
       "    <tr>\n",
       "      <th>0</th>\n",
       "      <td>youtube#videoCategoryListResponse</td>\n",
       "      <td>kBCr3I9kLHHU79W4Ip5196LDptI</td>\n",
       "      <td>{'kind': 'youtube#videoCategory', 'etag': 'IfW...</td>\n",
       "    </tr>\n",
       "    <tr>\n",
       "      <th>1</th>\n",
       "      <td>youtube#videoCategoryListResponse</td>\n",
       "      <td>kBCr3I9kLHHU79W4Ip5196LDptI</td>\n",
       "      <td>{'kind': 'youtube#videoCategory', 'etag': '5XG...</td>\n",
       "    </tr>\n",
       "    <tr>\n",
       "      <th>2</th>\n",
       "      <td>youtube#videoCategoryListResponse</td>\n",
       "      <td>kBCr3I9kLHHU79W4Ip5196LDptI</td>\n",
       "      <td>{'kind': 'youtube#videoCategory', 'etag': 'HCj...</td>\n",
       "    </tr>\n",
       "    <tr>\n",
       "      <th>3</th>\n",
       "      <td>youtube#videoCategoryListResponse</td>\n",
       "      <td>kBCr3I9kLHHU79W4Ip5196LDptI</td>\n",
       "      <td>{'kind': 'youtube#videoCategory', 'etag': 'ra8...</td>\n",
       "    </tr>\n",
       "    <tr>\n",
       "      <th>4</th>\n",
       "      <td>youtube#videoCategoryListResponse</td>\n",
       "      <td>kBCr3I9kLHHU79W4Ip5196LDptI</td>\n",
       "      <td>{'kind': 'youtube#videoCategory', 'etag': '7mq...</td>\n",
       "    </tr>\n",
       "  </tbody>\n",
       "</table>\n",
       "</div>"
      ],
      "text/plain": [
       "                                kind                         etag  \\\n",
       "0  youtube#videoCategoryListResponse  kBCr3I9kLHHU79W4Ip5196LDptI   \n",
       "1  youtube#videoCategoryListResponse  kBCr3I9kLHHU79W4Ip5196LDptI   \n",
       "2  youtube#videoCategoryListResponse  kBCr3I9kLHHU79W4Ip5196LDptI   \n",
       "3  youtube#videoCategoryListResponse  kBCr3I9kLHHU79W4Ip5196LDptI   \n",
       "4  youtube#videoCategoryListResponse  kBCr3I9kLHHU79W4Ip5196LDptI   \n",
       "\n",
       "                                               items  \n",
       "0  {'kind': 'youtube#videoCategory', 'etag': 'IfW...  \n",
       "1  {'kind': 'youtube#videoCategory', 'etag': '5XG...  \n",
       "2  {'kind': 'youtube#videoCategory', 'etag': 'HCj...  \n",
       "3  {'kind': 'youtube#videoCategory', 'etag': 'ra8...  \n",
       "4  {'kind': 'youtube#videoCategory', 'etag': '7mq...  "
      ]
     },
     "execution_count": 12,
     "metadata": {},
     "output_type": "execute_result"
    }
   ],
   "source": [
    "youtube_cat_in=pd.read_json('/kaggle/input/youtube-trending-video-dataset/IN_category_id.json')\n",
    "youtube_cat_in.head()"
   ]
  },
  {
   "cell_type": "code",
   "execution_count": 13,
   "id": "8b711388",
   "metadata": {
    "execution": {
     "iopub.execute_input": "2023-02-28T20:51:27.994148Z",
     "iopub.status.busy": "2023-02-28T20:51:27.992613Z",
     "iopub.status.idle": "2023-02-28T20:51:28.002576Z",
     "shell.execute_reply": "2023-02-28T20:51:28.000622Z"
    },
    "papermill": {
     "duration": 0.023331,
     "end_time": "2023-02-28T20:51:28.005761",
     "exception": false,
     "start_time": "2023-02-28T20:51:27.982430",
     "status": "completed"
    },
    "tags": []
   },
   "outputs": [],
   "source": [
    "id=[]\n",
    "cat=[]\n",
    "for t in youtube_cat_in['items']:\n",
    "    for x,y in t.items():\n",
    "        if(x=='id'):\n",
    "            id.append(y)\n",
    "        if(x=='snippet'):\n",
    "            for a,b in y.items():\n",
    "                if (a=='title'):\n",
    "                    cat.append(b)\n",
    "                    break\n",
    "                    \n",
    "cat_dict = {\n",
    "    'id': id,\n",
    "    'category':cat\n",
    "}\n",
    "\n",
    "category_india = pd.DataFrame(cat_dict)\n",
    "                \n",
    "            "
   ]
  },
  {
   "cell_type": "code",
   "execution_count": 14,
   "id": "402ab6cc",
   "metadata": {
    "execution": {
     "iopub.execute_input": "2023-02-28T20:51:28.025247Z",
     "iopub.status.busy": "2023-02-28T20:51:28.024152Z",
     "iopub.status.idle": "2023-02-28T20:51:28.037863Z",
     "shell.execute_reply": "2023-02-28T20:51:28.036731Z"
    },
    "papermill": {
     "duration": 0.027684,
     "end_time": "2023-02-28T20:51:28.041852",
     "exception": false,
     "start_time": "2023-02-28T20:51:28.014168",
     "status": "completed"
    },
    "tags": []
   },
   "outputs": [
    {
     "name": "stdout",
     "output_type": "stream",
     "text": [
      "<class 'pandas.core.frame.DataFrame'>\n",
      "RangeIndex: 31 entries, 0 to 30\n",
      "Data columns (total 2 columns):\n",
      " #   Column    Non-Null Count  Dtype \n",
      "---  ------    --------------  ----- \n",
      " 0   id        31 non-null     object\n",
      " 1   category  31 non-null     object\n",
      "dtypes: object(2)\n",
      "memory usage: 624.0+ bytes\n"
     ]
    }
   ],
   "source": [
    "category_india.info()"
   ]
  },
  {
   "cell_type": "code",
   "execution_count": 15,
   "id": "adc5bdd6",
   "metadata": {
    "execution": {
     "iopub.execute_input": "2023-02-28T20:51:28.061591Z",
     "iopub.status.busy": "2023-02-28T20:51:28.060717Z",
     "iopub.status.idle": "2023-02-28T20:51:28.075393Z",
     "shell.execute_reply": "2023-02-28T20:51:28.073830Z"
    },
    "papermill": {
     "duration": 0.027238,
     "end_time": "2023-02-28T20:51:28.077863",
     "exception": false,
     "start_time": "2023-02-28T20:51:28.050625",
     "status": "completed"
    },
    "tags": []
   },
   "outputs": [
    {
     "data": {
      "text/html": [
       "<div>\n",
       "<style scoped>\n",
       "    .dataframe tbody tr th:only-of-type {\n",
       "        vertical-align: middle;\n",
       "    }\n",
       "\n",
       "    .dataframe tbody tr th {\n",
       "        vertical-align: top;\n",
       "    }\n",
       "\n",
       "    .dataframe thead th {\n",
       "        text-align: right;\n",
       "    }\n",
       "</style>\n",
       "<table border=\"1\" class=\"dataframe\">\n",
       "  <thead>\n",
       "    <tr style=\"text-align: right;\">\n",
       "      <th></th>\n",
       "      <th>id</th>\n",
       "      <th>category</th>\n",
       "    </tr>\n",
       "  </thead>\n",
       "  <tbody>\n",
       "    <tr>\n",
       "      <th>0</th>\n",
       "      <td>1</td>\n",
       "      <td>Film &amp; Animation</td>\n",
       "    </tr>\n",
       "    <tr>\n",
       "      <th>1</th>\n",
       "      <td>2</td>\n",
       "      <td>Autos &amp; Vehicles</td>\n",
       "    </tr>\n",
       "    <tr>\n",
       "      <th>2</th>\n",
       "      <td>10</td>\n",
       "      <td>Music</td>\n",
       "    </tr>\n",
       "    <tr>\n",
       "      <th>3</th>\n",
       "      <td>15</td>\n",
       "      <td>Pets &amp; Animals</td>\n",
       "    </tr>\n",
       "    <tr>\n",
       "      <th>4</th>\n",
       "      <td>17</td>\n",
       "      <td>Sports</td>\n",
       "    </tr>\n",
       "    <tr>\n",
       "      <th>5</th>\n",
       "      <td>18</td>\n",
       "      <td>Short Movies</td>\n",
       "    </tr>\n",
       "    <tr>\n",
       "      <th>6</th>\n",
       "      <td>19</td>\n",
       "      <td>Travel &amp; Events</td>\n",
       "    </tr>\n",
       "    <tr>\n",
       "      <th>7</th>\n",
       "      <td>20</td>\n",
       "      <td>Gaming</td>\n",
       "    </tr>\n",
       "    <tr>\n",
       "      <th>8</th>\n",
       "      <td>21</td>\n",
       "      <td>Videoblogging</td>\n",
       "    </tr>\n",
       "    <tr>\n",
       "      <th>9</th>\n",
       "      <td>22</td>\n",
       "      <td>People &amp; Blogs</td>\n",
       "    </tr>\n",
       "    <tr>\n",
       "      <th>10</th>\n",
       "      <td>23</td>\n",
       "      <td>Comedy</td>\n",
       "    </tr>\n",
       "    <tr>\n",
       "      <th>11</th>\n",
       "      <td>24</td>\n",
       "      <td>Entertainment</td>\n",
       "    </tr>\n",
       "    <tr>\n",
       "      <th>12</th>\n",
       "      <td>25</td>\n",
       "      <td>News &amp; Politics</td>\n",
       "    </tr>\n",
       "    <tr>\n",
       "      <th>13</th>\n",
       "      <td>26</td>\n",
       "      <td>Howto &amp; Style</td>\n",
       "    </tr>\n",
       "    <tr>\n",
       "      <th>14</th>\n",
       "      <td>27</td>\n",
       "      <td>Education</td>\n",
       "    </tr>\n",
       "    <tr>\n",
       "      <th>15</th>\n",
       "      <td>28</td>\n",
       "      <td>Science &amp; Technology</td>\n",
       "    </tr>\n",
       "    <tr>\n",
       "      <th>16</th>\n",
       "      <td>30</td>\n",
       "      <td>Movies</td>\n",
       "    </tr>\n",
       "    <tr>\n",
       "      <th>17</th>\n",
       "      <td>31</td>\n",
       "      <td>Anime/Animation</td>\n",
       "    </tr>\n",
       "    <tr>\n",
       "      <th>18</th>\n",
       "      <td>32</td>\n",
       "      <td>Action/Adventure</td>\n",
       "    </tr>\n",
       "    <tr>\n",
       "      <th>19</th>\n",
       "      <td>33</td>\n",
       "      <td>Classics</td>\n",
       "    </tr>\n",
       "    <tr>\n",
       "      <th>20</th>\n",
       "      <td>34</td>\n",
       "      <td>Comedy</td>\n",
       "    </tr>\n",
       "    <tr>\n",
       "      <th>21</th>\n",
       "      <td>35</td>\n",
       "      <td>Documentary</td>\n",
       "    </tr>\n",
       "    <tr>\n",
       "      <th>22</th>\n",
       "      <td>36</td>\n",
       "      <td>Drama</td>\n",
       "    </tr>\n",
       "    <tr>\n",
       "      <th>23</th>\n",
       "      <td>37</td>\n",
       "      <td>Family</td>\n",
       "    </tr>\n",
       "    <tr>\n",
       "      <th>24</th>\n",
       "      <td>38</td>\n",
       "      <td>Foreign</td>\n",
       "    </tr>\n",
       "    <tr>\n",
       "      <th>25</th>\n",
       "      <td>39</td>\n",
       "      <td>Horror</td>\n",
       "    </tr>\n",
       "    <tr>\n",
       "      <th>26</th>\n",
       "      <td>40</td>\n",
       "      <td>Sci-Fi/Fantasy</td>\n",
       "    </tr>\n",
       "    <tr>\n",
       "      <th>27</th>\n",
       "      <td>41</td>\n",
       "      <td>Thriller</td>\n",
       "    </tr>\n",
       "    <tr>\n",
       "      <th>28</th>\n",
       "      <td>42</td>\n",
       "      <td>Shorts</td>\n",
       "    </tr>\n",
       "    <tr>\n",
       "      <th>29</th>\n",
       "      <td>43</td>\n",
       "      <td>Shows</td>\n",
       "    </tr>\n",
       "    <tr>\n",
       "      <th>30</th>\n",
       "      <td>44</td>\n",
       "      <td>Trailers</td>\n",
       "    </tr>\n",
       "  </tbody>\n",
       "</table>\n",
       "</div>"
      ],
      "text/plain": [
       "    id              category\n",
       "0    1      Film & Animation\n",
       "1    2      Autos & Vehicles\n",
       "2   10                 Music\n",
       "3   15        Pets & Animals\n",
       "4   17                Sports\n",
       "5   18          Short Movies\n",
       "6   19       Travel & Events\n",
       "7   20                Gaming\n",
       "8   21         Videoblogging\n",
       "9   22        People & Blogs\n",
       "10  23                Comedy\n",
       "11  24         Entertainment\n",
       "12  25       News & Politics\n",
       "13  26         Howto & Style\n",
       "14  27             Education\n",
       "15  28  Science & Technology\n",
       "16  30                Movies\n",
       "17  31       Anime/Animation\n",
       "18  32      Action/Adventure\n",
       "19  33              Classics\n",
       "20  34                Comedy\n",
       "21  35           Documentary\n",
       "22  36                 Drama\n",
       "23  37                Family\n",
       "24  38               Foreign\n",
       "25  39                Horror\n",
       "26  40        Sci-Fi/Fantasy\n",
       "27  41              Thriller\n",
       "28  42                Shorts\n",
       "29  43                 Shows\n",
       "30  44              Trailers"
      ]
     },
     "execution_count": 15,
     "metadata": {},
     "output_type": "execute_result"
    }
   ],
   "source": [
    "category_india['id']=category_india['id'].astype('int64')\n",
    "category_india"
   ]
  },
  {
   "cell_type": "code",
   "execution_count": 16,
   "id": "00406152",
   "metadata": {
    "execution": {
     "iopub.execute_input": "2023-02-28T20:51:28.101612Z",
     "iopub.status.busy": "2023-02-28T20:51:28.101161Z",
     "iopub.status.idle": "2023-02-28T20:51:28.474828Z",
     "shell.execute_reply": "2023-02-28T20:51:28.473039Z"
    },
    "papermill": {
     "duration": 0.391081,
     "end_time": "2023-02-28T20:51:28.477720",
     "exception": false,
     "start_time": "2023-02-28T20:51:28.086639",
     "status": "completed"
    },
    "tags": []
   },
   "outputs": [
    {
     "data": {
      "text/plain": [
       "[Text(0.5, 1.0, 'Most trending categories 2022')]"
      ]
     },
     "execution_count": 16,
     "metadata": {},
     "output_type": "execute_result"
    },
    {
     "data": {
      "image/png": "[encoded data removed]",
      "text/plain": [
       "<Figure size 640x480 with 1 Axes>"
      ]
     },
     "metadata": {},
     "output_type": "display_data"
    }
   ],
   "source": [
    "trending=youtube_in_2022[['video_id','categoryId']]\n",
    "trending_2022=pd.DataFrame(trending.groupby(\"categoryId\").video_id.nunique().sort_values(ascending=False)).merge(category_india,how='inner',left_on='categoryId',right_on='id').rename(columns={'video_id':'Video Count'})\n",
    "sns.barplot(x=trending_2022['Video Count'],y=trending_2022['category'],palette='colorblind').set(title='Most trending categories 2022')"
   ]
  },
  {
   "cell_type": "code",
   "execution_count": 17,
   "id": "7b5b187f",
   "metadata": {
    "execution": {
     "iopub.execute_input": "2023-02-28T20:51:28.499360Z",
     "iopub.status.busy": "2023-02-28T20:51:28.498863Z",
     "iopub.status.idle": "2023-02-28T20:51:28.794455Z",
     "shell.execute_reply": "2023-02-28T20:51:28.793188Z"
    },
    "papermill": {
     "duration": 0.309532,
     "end_time": "2023-02-28T20:51:28.797209",
     "exception": false,
     "start_time": "2023-02-28T20:51:28.487677",
     "status": "completed"
    },
    "tags": []
   },
   "outputs": [
    {
     "data": {
      "text/plain": [
       "[Text(0.5, 1.0, 'Top 5 trending channels 2022')]"
      ]
     },
     "execution_count": 17,
     "metadata": {},
     "output_type": "execute_result"
    },
    {
     "data": {
      "image/png": "[encoded data removed]",
      "text/plain": [
       "<Figure size 640x480 with 1 Axes>"
      ]
     },
     "metadata": {},
     "output_type": "display_data"
    }
   ],
   "source": [
    "most_trending_channels5 = pd.DataFrame(youtube_in_2022.groupby('channelTitle').video_id.nunique().sort_values(ascending=False)).rename(columns={'video_id':'Video Count'}).head()\n",
    "sns.barplot(x=most_trending_channels5['Video Count'],y=most_trending_channels5.index,palette='deep').set(title='Top 5 trending channels 2022')\n"
   ]
  },
  {
   "cell_type": "code",
   "execution_count": 18,
   "id": "b6b13288",
   "metadata": {
    "execution": {
     "iopub.execute_input": "2023-02-28T20:51:28.819777Z",
     "iopub.status.busy": "2023-02-28T20:51:28.819378Z",
     "iopub.status.idle": "2023-02-28T20:51:28.841995Z",
     "shell.execute_reply": "2023-02-28T20:51:28.840417Z"
    },
    "papermill": {
     "duration": 0.037077,
     "end_time": "2023-02-28T20:51:28.844471",
     "exception": false,
     "start_time": "2023-02-28T20:51:28.807394",
     "status": "completed"
    },
    "tags": []
   },
   "outputs": [
    {
     "data": {
      "text/html": [
       "<div>\n",
       "<style scoped>\n",
       "    .dataframe tbody tr th:only-of-type {\n",
       "        vertical-align: middle;\n",
       "    }\n",
       "\n",
       "    .dataframe tbody tr th {\n",
       "        vertical-align: top;\n",
       "    }\n",
       "\n",
       "    .dataframe thead th {\n",
       "        text-align: right;\n",
       "    }\n",
       "</style>\n",
       "<table border=\"1\" class=\"dataframe\">\n",
       "  <thead>\n",
       "    <tr style=\"text-align: right;\">\n",
       "      <th></th>\n",
       "      <th>video_id</th>\n",
       "      <th>title</th>\n",
       "      <th>publishedAt</th>\n",
       "      <th>channelId</th>\n",
       "      <th>channelTitle</th>\n",
       "      <th>categoryId</th>\n",
       "      <th>trending_date</th>\n",
       "      <th>tags</th>\n",
       "      <th>view_count</th>\n",
       "      <th>likes</th>\n",
       "      <th>dislikes</th>\n",
       "      <th>comment_count</th>\n",
       "      <th>thumbnail_link</th>\n",
       "      <th>comments_disabled</th>\n",
       "      <th>ratings_disabled</th>\n",
       "      <th>description</th>\n",
       "      <th>trending_day</th>\n",
       "      <th>trending_month</th>\n",
       "      <th>trending_year</th>\n",
       "    </tr>\n",
       "  </thead>\n",
       "  <tbody>\n",
       "    <tr>\n",
       "      <th>96560</th>\n",
       "      <td>lwLSb1cq4gM</td>\n",
       "      <td>Pellam Vaddu Party Muddu | Extra Jabardasth|ET...</td>\n",
       "      <td>2021-12-31 19:35:14</td>\n",
       "      <td>UCnoqvTW4YZExfDeq7_Wmd-w</td>\n",
       "      <td>ETV Jabardasth</td>\n",
       "      <td>23</td>\n",
       "      <td>2022-01-01</td>\n",
       "      <td>pellam vaddu party muddu|pellam vaddu party mu...</td>\n",
       "      <td>2840348</td>\n",
       "      <td>63462</td>\n",
       "      <td>0</td>\n",
       "      <td>5190</td>\n",
       "      <td>https://i.ytimg.com/vi/lwLSb1cq4gM/default.jpg</td>\n",
       "      <td>False</td>\n",
       "      <td>False</td>\n",
       "      <td>#rgv #extrajabardasth #pellamvaddupartymuddu #...</td>\n",
       "      <td>1</td>\n",
       "      <td>1</td>\n",
       "      <td>2022</td>\n",
       "    </tr>\n",
       "    <tr>\n",
       "      <th>96561</th>\n",
       "      <td>Af0MJxJIAj8</td>\n",
       "      <td>Bacchi ne sahi kiya ya galat? #shorts #ytshort...</td>\n",
       "      <td>2021-12-30 06:29:27</td>\n",
       "      <td>UCoxEmfaNM9eCqIER5KnjPxg</td>\n",
       "      <td>shadab5star</td>\n",
       "      <td>24</td>\n",
       "      <td>2022-01-01</td>\n",
       "      <td>[None]</td>\n",
       "      <td>15284620</td>\n",
       "      <td>1306973</td>\n",
       "      <td>0</td>\n",
       "      <td>4106</td>\n",
       "      <td>https://i.ytimg.com/vi/Af0MJxJIAj8/default.jpg</td>\n",
       "      <td>False</td>\n",
       "      <td>False</td>\n",
       "      <td>NaN</td>\n",
       "      <td>1</td>\n",
       "      <td>1</td>\n",
       "      <td>2022</td>\n",
       "    </tr>\n",
       "    <tr>\n",
       "      <th>96562</th>\n",
       "      <td>4XmgqWXBnRA</td>\n",
       "      <td>Glimpse of LIGER | Vijay Deverakonda | Puri Ja...</td>\n",
       "      <td>2021-12-31 04:33:03</td>\n",
       "      <td>UCKQKIY2YlI4L5QVg7hhfjrQ</td>\n",
       "      <td>Dharma Productions</td>\n",
       "      <td>1</td>\n",
       "      <td>2022-01-01</td>\n",
       "      <td>[None]</td>\n",
       "      <td>16954791</td>\n",
       "      <td>441028</td>\n",
       "      <td>0</td>\n",
       "      <td>13424</td>\n",
       "      <td>https://i.ytimg.com/vi/4XmgqWXBnRA/default.jpg</td>\n",
       "      <td>False</td>\n",
       "      <td>False</td>\n",
       "      <td>Vaat laga denge!⚡Presenting to you the most aw...</td>\n",
       "      <td>1</td>\n",
       "      <td>1</td>\n",
       "      <td>2022</td>\n",
       "    </tr>\n",
       "    <tr>\n",
       "      <th>96563</th>\n",
       "      <td>IIAq4rrV7hE</td>\n",
       "      <td>BUYING THE MOST EXPENSIVE HOUSE | GTA V GAMEPL...</td>\n",
       "      <td>2021-12-31 04:34:18</td>\n",
       "      <td>UCX8pnu3DYUnx8qy8V_c6oHg</td>\n",
       "      <td>Techno Gamerz</td>\n",
       "      <td>20</td>\n",
       "      <td>2022-01-01</td>\n",
       "      <td>GTA|GTA 5|GTA ONLINE|PC|gta 5 gameplay|gta v h...</td>\n",
       "      <td>8492797</td>\n",
       "      <td>999836</td>\n",
       "      <td>0</td>\n",
       "      <td>100720</td>\n",
       "      <td>https://i.ytimg.com/vi/IIAq4rrV7hE/default.jpg</td>\n",
       "      <td>False</td>\n",
       "      <td>False</td>\n",
       "      <td>BUYING THE MOST EXPENSIVE HOUSE | GTA V GAMEPL...</td>\n",
       "      <td>1</td>\n",
       "      <td>1</td>\n",
       "      <td>2022</td>\n",
       "    </tr>\n",
       "    <tr>\n",
       "      <th>96564</th>\n",
       "      <td>0K5Qx6dcC5E</td>\n",
       "      <td>Dhamaka 😱 Experiment BY @The Experiment TV @MR...</td>\n",
       "      <td>2021-12-30 02:30:00</td>\n",
       "      <td>UCwVRB04LYKsMeGmPK77fJ0w</td>\n",
       "      <td>Sab Milega Yaha</td>\n",
       "      <td>22</td>\n",
       "      <td>2022-01-01</td>\n",
       "      <td>Best Experiments In India|Crazy XYZ|Dhamaka|Ex...</td>\n",
       "      <td>7669326</td>\n",
       "      <td>610128</td>\n",
       "      <td>0</td>\n",
       "      <td>722</td>\n",
       "      <td>https://i.ytimg.com/vi/0K5Qx6dcC5E/default.jpg</td>\n",
       "      <td>False</td>\n",
       "      <td>False</td>\n",
       "      <td>Dhamaka 😱 Experiment BY @The Experiment TV @MR...</td>\n",
       "      <td>1</td>\n",
       "      <td>1</td>\n",
       "      <td>2022</td>\n",
       "    </tr>\n",
       "  </tbody>\n",
       "</table>\n",
       "</div>"
      ],
      "text/plain": [
       "          video_id                                              title  \\\n",
       "96560  lwLSb1cq4gM  Pellam Vaddu Party Muddu | Extra Jabardasth|ET...   \n",
       "96561  Af0MJxJIAj8  Bacchi ne sahi kiya ya galat? #shorts #ytshort...   \n",
       "96562  4XmgqWXBnRA  Glimpse of LIGER | Vijay Deverakonda | Puri Ja...   \n",
       "96563  IIAq4rrV7hE  BUYING THE MOST EXPENSIVE HOUSE | GTA V GAMEPL...   \n",
       "96564  0K5Qx6dcC5E  Dhamaka 😱 Experiment BY @The Experiment TV @MR...   \n",
       "\n",
       "              publishedAt                 channelId        channelTitle  \\\n",
       "96560 2021-12-31 19:35:14  UCnoqvTW4YZExfDeq7_Wmd-w      ETV Jabardasth   \n",
       "96561 2021-12-30 06:29:27  UCoxEmfaNM9eCqIER5KnjPxg         shadab5star   \n",
       "96562 2021-12-31 04:33:03  UCKQKIY2YlI4L5QVg7hhfjrQ  Dharma Productions   \n",
       "96563 2021-12-31 04:34:18  UCX8pnu3DYUnx8qy8V_c6oHg       Techno Gamerz   \n",
       "96564 2021-12-30 02:30:00  UCwVRB04LYKsMeGmPK77fJ0w     Sab Milega Yaha   \n",
       "\n",
       "       categoryId trending_date  \\\n",
       "96560          23    2022-01-01   \n",
       "96561          24    2022-01-01   \n",
       "96562           1    2022-01-01   \n",
       "96563          20    2022-01-01   \n",
       "96564          22    2022-01-01   \n",
       "\n",
       "                                                    tags  view_count    likes  \\\n",
       "96560  pellam vaddu party muddu|pellam vaddu party mu...     2840348    63462   \n",
       "96561                                             [None]    15284620  1306973   \n",
       "96562                                             [None]    16954791   441028   \n",
       "96563  GTA|GTA 5|GTA ONLINE|PC|gta 5 gameplay|gta v h...     8492797   999836   \n",
       "96564  Best Experiments In India|Crazy XYZ|Dhamaka|Ex...     7669326   610128   \n",
       "\n",
       "       dislikes  comment_count  \\\n",
       "96560         0           5190   \n",
       "96561         0           4106   \n",
       "96562         0          13424   \n",
       "96563         0         100720   \n",
       "96564         0            722   \n",
       "\n",
       "                                       thumbnail_link  comments_disabled  \\\n",
       "96560  https://i.ytimg.com/vi/lwLSb1cq4gM/default.jpg              False   \n",
       "96561  https://i.ytimg.com/vi/Af0MJxJIAj8/default.jpg              False   \n",
       "96562  https://i.ytimg.com/vi/4XmgqWXBnRA/default.jpg              False   \n",
       "96563  https://i.ytimg.com/vi/IIAq4rrV7hE/default.jpg              False   \n",
       "96564  https://i.ytimg.com/vi/0K5Qx6dcC5E/default.jpg              False   \n",
       "\n",
       "       ratings_disabled                                        description  \\\n",
       "96560             False  #rgv #extrajabardasth #pellamvaddupartymuddu #...   \n",
       "96561             False                                                NaN   \n",
       "96562             False  Vaat laga denge!⚡Presenting to you the most aw...   \n",
       "96563             False  BUYING THE MOST EXPENSIVE HOUSE | GTA V GAMEPL...   \n",
       "96564             False  Dhamaka 😱 Experiment BY @The Experiment TV @MR...   \n",
       "\n",
       "       trending_day  trending_month  trending_year  \n",
       "96560             1               1           2022  \n",
       "96561             1               1           2022  \n",
       "96562             1               1           2022  \n",
       "96563             1               1           2022  \n",
       "96564             1               1           2022  "
      ]
     },
     "execution_count": 18,
     "metadata": {},
     "output_type": "execute_result"
    }
   ],
   "source": [
    "youtube_in_2022.head()"
   ]
  },
  {
   "cell_type": "code",
   "execution_count": 19,
   "id": "81fea36f",
   "metadata": {
    "execution": {
     "iopub.execute_input": "2023-02-28T20:51:28.869621Z",
     "iopub.status.busy": "2023-02-28T20:51:28.868420Z",
     "iopub.status.idle": "2023-02-28T20:51:28.914204Z",
     "shell.execute_reply": "2023-02-28T20:51:28.912639Z"
    },
    "papermill": {
     "duration": 0.0618,
     "end_time": "2023-02-28T20:51:28.917577",
     "exception": false,
     "start_time": "2023-02-28T20:51:28.855777",
     "status": "completed"
    },
    "tags": []
   },
   "outputs": [],
   "source": [
    "monthly_trend_channel = pd.DataFrame(youtube_in_2022.groupby(['trending_month','channelTitle']).video_id.nunique().sort_values(ascending=False)).rename(columns={'video_id':'Video Count'})\n",
    "monthly_trend_channel = monthly_trend_channel.reset_index()"
   ]
  },
  {
   "cell_type": "code",
   "execution_count": 20,
   "id": "03035135",
   "metadata": {
    "execution": {
     "iopub.execute_input": "2023-02-28T20:51:28.943389Z",
     "iopub.status.busy": "2023-02-28T20:51:28.942384Z",
     "iopub.status.idle": "2023-02-28T20:51:28.985265Z",
     "shell.execute_reply": "2023-02-28T20:51:28.983604Z"
    },
    "papermill": {
     "duration": 0.059717,
     "end_time": "2023-02-28T20:51:28.989022",
     "exception": false,
     "start_time": "2023-02-28T20:51:28.929305",
     "status": "completed"
    },
    "tags": []
   },
   "outputs": [
    {
     "name": "stdout",
     "output_type": "stream",
     "text": [
      "Monthly Top 3 trending channels\n",
      "\n",
      "January\n",
      "          channelTitle  Video Count\n",
      "4     Vijay Television           51\n",
      "16            Sony SAB           35\n",
      "17  Sourav Joshi Vlogs           34\n",
      "\n",
      "\n",
      "February\n",
      "            channelTitle  Video Count\n",
      "20             SEVENGERS           34\n",
      "32    Sourav Joshi Vlogs           31\n",
      "39  Pragati Verma Shorts           27\n",
      "\n",
      "\n",
      "March\n",
      "          channelTitle  Video Count\n",
      "13    Vijay Television           36\n",
      "14           SEVENGERS           35\n",
      "26  Sourav Joshi Vlogs           33\n",
      "\n",
      "\n",
      "April\n",
      "          channelTitle  Video Count\n",
      "28  Sourav Joshi Vlogs           32\n",
      "37              HUM TV           28\n",
      "38    Vijay Television           28\n",
      "\n",
      "\n",
      "May\n",
      "          channelTitle  Video Count\n",
      "23  Sourav Joshi Vlogs           33\n",
      "42            Sony SAB           25\n",
      "54    Vijay Television           22\n",
      "\n",
      "\n",
      "June\n",
      "          channelTitle  Video Count\n",
      "27  Sourav Joshi Vlogs           32\n",
      "53      ARY Digital HD           22\n",
      "66            Sony SAB           19\n",
      "\n",
      "\n",
      "July\n",
      "          channelTitle  Video Count\n",
      "25  Sourav Joshi Vlogs           33\n",
      "36         Shemaroo TV           28\n",
      "46      ARY Digital HD           24\n",
      "\n",
      "\n",
      "August\n",
      "          channelTitle  Video Count\n",
      "29  Sourav Joshi Vlogs           32\n",
      "34         LittleGlove           29\n",
      "58      ARY Digital HD           21\n",
      "\n",
      "\n",
      "September\n",
      "          channelTitle  Video Count\n",
      "19      ARY Digital HD           34\n",
      "31  Sourav Joshi Vlogs           32\n",
      "77         HAR PAL GEO           16\n",
      "\n",
      "\n",
      "October\n",
      "        channelTitle  Video Count\n",
      "2   Vijay Television           62\n",
      "7             Sun TV           45\n",
      "10       HAR PAL GEO           40\n",
      "\n",
      "\n",
      "November\n",
      "       channelTitle  Video Count\n",
      "0  Vijay Television           66\n",
      "1            Sun TV           66\n",
      "5       HAR PAL GEO           50\n",
      "\n",
      "\n",
      "December\n",
      "        channelTitle  Video Count\n",
      "3   Vijay Television           54\n",
      "12          StarPlus           37\n",
      "15            Sun TV           35\n",
      "\n",
      "\n"
     ]
    }
   ],
   "source": [
    "month = {1:\"January\", 2:\"February\", 3:\"March\", 4:\"April\", 5:\"May\",6 :\"June\",7 :\"July\",8 :\"August\", 9:\"September\", 10:\"October\", 11:\"November\", 12:\"December\"}\n",
    "print('Monthly Top 3 trending channels\\n')\n",
    "\n",
    "for m in range(1,13):\n",
    "    print(month[m])\n",
    "    print(monthly_trend_channel[['channelTitle','Video Count']].loc[monthly_trend_channel.trending_month==m].head(3))\n",
    "    print('\\n')"
   ]
  },
  {
   "cell_type": "code",
   "execution_count": 21,
   "id": "e3687c59",
   "metadata": {
    "execution": {
     "iopub.execute_input": "2023-02-28T20:51:29.014641Z",
     "iopub.status.busy": "2023-02-28T20:51:29.014134Z",
     "iopub.status.idle": "2023-02-28T20:51:29.485951Z",
     "shell.execute_reply": "2023-02-28T20:51:29.484343Z"
    },
    "papermill": {
     "duration": 0.488278,
     "end_time": "2023-02-28T20:51:29.488918",
     "exception": false,
     "start_time": "2023-02-28T20:51:29.000640",
     "status": "completed"
    },
    "tags": []
   },
   "outputs": [
    {
     "data": {
      "text/plain": [
       "[Text(0.5, 1.0, 'Time taken to become trending-Category')]"
      ]
     },
     "execution_count": 21,
     "metadata": {},
     "output_type": "execute_result"
    },
    {
     "data": {
      "image/png": "[encoded data removed]",
      "text/plain": [
       "<Figure size 640x480 with 1 Axes>"
      ]
     },
     "metadata": {},
     "output_type": "display_data"
    }
   ],
   "source": [
    "#how many days after publishing video goes to trending(cat)\n",
    "df1=youtube_in_2022[['video_id','publishedAt','channelTitle','categoryId']]\n",
    "df1=df1[~df1.duplicated()]\n",
    "df2=youtube_in_2022['trending_date']\n",
    "df1=df1.join(df2)\n",
    "df1=df1.join([df1['trending_date'].dt.date-df1['publishedAt'].dt.date])\n",
    "df1.rename(columns={0:'time_to_trend'},inplace = True)\n",
    "\n",
    "cat_trending_time=pd.DataFrame(df1.groupby(by='categoryId').time_to_trend.mean().sort_values()).merge(category_india,how='left',left_on='categoryId',right_on='id').dropna()\n",
    "sns.barplot(x=cat_trending_time['time_to_trend']/np.timedelta64(1, 'D'),y=cat_trending_time['category'],palette='crest').set(title=\"Time taken to become trending-Category\")"
   ]
  },
  {
   "cell_type": "code",
   "execution_count": 22,
   "id": "1de0d9f5",
   "metadata": {
    "execution": {
     "iopub.execute_input": "2023-02-28T20:51:29.515535Z",
     "iopub.status.busy": "2023-02-28T20:51:29.515074Z",
     "iopub.status.idle": "2023-02-28T20:51:29.532640Z",
     "shell.execute_reply": "2023-02-28T20:51:29.531612Z"
    },
    "papermill": {
     "duration": 0.034911,
     "end_time": "2023-02-28T20:51:29.536098",
     "exception": false,
     "start_time": "2023-02-28T20:51:29.501187",
     "status": "completed"
    },
    "tags": []
   },
   "outputs": [
    {
     "name": "stdout",
     "output_type": "stream",
     "text": [
      "Top 10 Channels with least time to become trending\n",
      "\n",
      "        channelTitle Time Taken\n",
      "0       Film Faktory     0 days\n",
      "1      Mrs. Abi Time     0 days\n",
      "2    Good News Today     0 days\n",
      "3  bhura_turkish_755     0 days\n",
      "4     My Smart Guide     0 days\n",
      "5     Koilamma Vlogs     0 days\n",
      "6      The Gebonions     0 days\n",
      "7         AHAD GAMER     0 days\n",
      "8         Mahaa News     0 days\n",
      "9      Green Life Tv     0 days\n"
     ]
    }
   ],
   "source": [
    "print(\"Top 10 Channels with least time to become trending\\n\")\n",
    "print(df1.groupby(by='channelTitle').time_to_trend.mean().sort_values().reset_index(name='Time Taken').head(10))"
   ]
  },
  {
   "cell_type": "code",
   "execution_count": 23,
   "id": "9d15556c",
   "metadata": {
    "execution": {
     "iopub.execute_input": "2023-02-28T20:51:29.564857Z",
     "iopub.status.busy": "2023-02-28T20:51:29.563772Z",
     "iopub.status.idle": "2023-02-28T20:51:35.777351Z",
     "shell.execute_reply": "2023-02-28T20:51:35.776049Z"
    },
    "papermill": {
     "duration": 6.230486,
     "end_time": "2023-02-28T20:51:35.780022",
     "exception": false,
     "start_time": "2023-02-28T20:51:29.549536",
     "status": "completed"
    },
    "tags": []
   },
   "outputs": [
    {
     "data": {
      "text/plain": [
       "[Text(0.5, 1.0, 'Time spent in trending - Category')]"
      ]
     },
     "execution_count": 23,
     "metadata": {},
     "output_type": "execute_result"
    },
    {
     "data": {
      "image/png": "[encoded data removed]",
      "text/plain": [
       "<Figure size 640x480 with 1 Axes>"
      ]
     },
     "metadata": {},
     "output_type": "display_data"
    }
   ],
   "source": [
    "df2=youtube_in_2022.groupby(['video_id','channelTitle','categoryId']).apply(lambda x:max(x.trending_date)-min(x.trending_date)).reset_index(name=\"trending_days\")\n",
    "cat_trending_days=pd.DataFrame(df2.groupby(['categoryId']).trending_days.mean().sort_values(ascending=False)).merge(category_india,how='left',left_on='categoryId',right_on='id')\n",
    "sns.barplot(x=cat_trending_days['trending_days']/np.timedelta64(1, 'D'),y=cat_trending_days['category'],palette='pastel').set(title=\"Time spent in trending - Category\")"
   ]
  },
  {
   "cell_type": "code",
   "execution_count": 24,
   "id": "1979345d",
   "metadata": {
    "execution": {
     "iopub.execute_input": "2023-02-28T20:51:35.810368Z",
     "iopub.status.busy": "2023-02-28T20:51:35.809789Z",
     "iopub.status.idle": "2023-02-28T20:51:35.824543Z",
     "shell.execute_reply": "2023-02-28T20:51:35.823244Z"
    },
    "papermill": {
     "duration": 0.033934,
     "end_time": "2023-02-28T20:51:35.827819",
     "exception": false,
     "start_time": "2023-02-28T20:51:35.793885",
     "status": "completed"
    },
    "tags": []
   },
   "outputs": [
    {
     "data": {
      "text/html": [
       "<div>\n",
       "<style scoped>\n",
       "    .dataframe tbody tr th:only-of-type {\n",
       "        vertical-align: middle;\n",
       "    }\n",
       "\n",
       "    .dataframe tbody tr th {\n",
       "        vertical-align: top;\n",
       "    }\n",
       "\n",
       "    .dataframe thead th {\n",
       "        text-align: right;\n",
       "    }\n",
       "</style>\n",
       "<table border=\"1\" class=\"dataframe\">\n",
       "  <thead>\n",
       "    <tr style=\"text-align: right;\">\n",
       "      <th></th>\n",
       "      <th>video_id</th>\n",
       "      <th>channelTitle</th>\n",
       "      <th>categoryId</th>\n",
       "      <th>trending_days</th>\n",
       "    </tr>\n",
       "  </thead>\n",
       "  <tbody>\n",
       "    <tr>\n",
       "      <th>0</th>\n",
       "      <td>--9rRxqTdjQ</td>\n",
       "      <td>Gaurav Chaudhary</td>\n",
       "      <td>22</td>\n",
       "      <td>3 days</td>\n",
       "    </tr>\n",
       "    <tr>\n",
       "      <th>1</th>\n",
       "      <td>--gbWcfoRWg</td>\n",
       "      <td>Pramod`s Life</td>\n",
       "      <td>2</td>\n",
       "      <td>2 days</td>\n",
       "    </tr>\n",
       "    <tr>\n",
       "      <th>2</th>\n",
       "      <td>--vmXGvtqxQ</td>\n",
       "      <td>Anil Kumar Masani</td>\n",
       "      <td>22</td>\n",
       "      <td>3 days</td>\n",
       "    </tr>\n",
       "    <tr>\n",
       "      <th>3</th>\n",
       "      <td>-08TpBV_9Ak</td>\n",
       "      <td>Saba Ibrahim</td>\n",
       "      <td>22</td>\n",
       "      <td>1 days</td>\n",
       "    </tr>\n",
       "    <tr>\n",
       "      <th>4</th>\n",
       "      <td>-0JpgS_nzAg</td>\n",
       "      <td>Sourav Joshi Vlogs</td>\n",
       "      <td>22</td>\n",
       "      <td>2 days</td>\n",
       "    </tr>\n",
       "  </tbody>\n",
       "</table>\n",
       "</div>"
      ],
      "text/plain": [
       "      video_id        channelTitle  categoryId trending_days\n",
       "0  --9rRxqTdjQ    Gaurav Chaudhary          22        3 days\n",
       "1  --gbWcfoRWg       Pramod`s Life           2        2 days\n",
       "2  --vmXGvtqxQ   Anil Kumar Masani          22        3 days\n",
       "3  -08TpBV_9Ak        Saba Ibrahim          22        1 days\n",
       "4  -0JpgS_nzAg  Sourav Joshi Vlogs          22        2 days"
      ]
     },
     "execution_count": 24,
     "metadata": {},
     "output_type": "execute_result"
    }
   ],
   "source": [
    "df2.head()"
   ]
  },
  {
   "cell_type": "code",
   "execution_count": 25,
   "id": "31a1437f",
   "metadata": {
    "execution": {
     "iopub.execute_input": "2023-02-28T20:51:35.857340Z",
     "iopub.status.busy": "2023-02-28T20:51:35.856856Z",
     "iopub.status.idle": "2023-02-28T20:51:36.188024Z",
     "shell.execute_reply": "2023-02-28T20:51:36.186608Z"
    },
    "papermill": {
     "duration": 0.349876,
     "end_time": "2023-02-28T20:51:36.191441",
     "exception": false,
     "start_time": "2023-02-28T20:51:35.841565",
     "status": "completed"
    },
    "tags": []
   },
   "outputs": [
    {
     "data": {
      "text/plain": [
       "[Text(0.5, 1.0, 'Time spent in Trending - Channel')]"
      ]
     },
     "execution_count": 25,
     "metadata": {},
     "output_type": "execute_result"
    },
    {
     "data": {
      "image/png": "[encoded data removed]",
      "text/plain": [
       "<Figure size 640x480 with 1 Axes>"
      ]
     },
     "metadata": {},
     "output_type": "display_data"
    }
   ],
   "source": [
    "top10_trendingduration_channels=pd.DataFrame(df2.groupby(['channelTitle']).trending_days.mean().sort_values(ascending=False)).reset_index().head(10)\n",
    "sns.barplot(x=top10_trendingduration_channels['trending_days']/np.timedelta64(1, 'D'),y=top10_trendingduration_channels['channelTitle'],palette='pastel').set(title = \"Time spent in Trending - Channel\")"
   ]
  },
  {
   "cell_type": "code",
   "execution_count": null,
   "id": "809c0c09",
   "metadata": {
    "papermill": {
     "duration": 0.01419,
     "end_time": "2023-02-28T20:51:36.220305",
     "exception": false,
     "start_time": "2023-02-28T20:51:36.206115",
     "status": "completed"
    },
    "tags": []
   },
   "outputs": [],
   "source": []
  }
 ],
 "metadata": {
  "kernelspec": {
   "display_name": "Python 3 (ipykernel)",
   "language": "python",
   "name": "python3"
  },
  "language_info": {
   "codemirror_mode": {
    "name": "ipython",
    "version": 3
   },
   "file_extension": ".py",
   "mimetype": "text/x-python",
   "name": "python",
   "nbconvert_exporter": "python",
   "pygments_lexer": "ipython3",
   "version": "3.11.2"
  },
  "papermill": {
   "default_parameters": {},
   "duration": 36.127206,
   "end_time": "2023-02-28T20:51:37.565323",
   "environment_variables": {},
   "exception": null,
   "input_path": "__notebook__.ipynb",
   "output_path": "__notebook__.ipynb",
   "parameters": {},
   "start_time": "2023-02-28T20:51:01.438117",
   "version": "2.4.0"
  }
 },
 "nbformat": 4,
 "nbformat_minor": 5
}
