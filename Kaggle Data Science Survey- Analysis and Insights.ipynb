{
 "cells": [
  {
   "cell_type": "markdown",
   "metadata": {},
   "source": [
    "This is a guided project on Python using Jupyter Notebook"
   ]
  },
  {
   "cell_type": "code",
   "execution_count": 36,
   "metadata": {},
   "outputs": [],
   "source": [
    "import csv\n",
    "#using csv module to read the csv file\n",
    "with open('kaggle2021-short.csv') as f:\n",
    "    reader = csv.reader(f, delimiter=\",\")\n",
    "    kaggle_data = list(reader)\n",
    "# Here we separate the column names and actual\n",
    "# data into two lists\n",
    "column_names = kaggle_data[0]\n",
    "survey_responses = kaggle_data[1:]"
   ]
  },
  {
   "cell_type": "code",
   "execution_count": 37,
   "metadata": {},
   "outputs": [
    {
     "name": "stdout",
     "output_type": "stream",
     "text": [
      "[['6.1', 'TRUE', 'FALSE', 'TRUE', 'Scikit-learn', '124267'], ['12.3', 'TRUE', 'TRUE', 'TRUE', 'Scikit-learn', '236889'], ['2.2', 'TRUE', 'FALSE', 'FALSE', 'None', '74321'], ['2.7', 'FALSE', 'FALSE', 'TRUE', 'None', '62593'], ['1.2', 'TRUE', 'FALSE', 'FALSE', 'Scikit-learn', '36288']]\n"
     ]
    }
   ],
   "source": [
    "print(survey_responses[0:5])"
   ]
  },
  {
   "cell_type": "markdown",
   "metadata": {},
   "source": [
    "Going through the data we can see that the data types are not proper for each column. To perform analysis cleaning is required in this regard."
   ]
  },
  {
   "cell_type": "code",
   "execution_count": 38,
   "metadata": {},
   "outputs": [],
   "source": [
    "# Iterating through each row and assigning proper \n",
    "#data types for each column\n",
    "for row in survey_responses:\n",
    "    row[0] = float(row[0])\n",
    "    row[1] = (row[1] == \"TRUE\")\n",
    "    row[2] = (row[2] == \"TRUE\")\n",
    "    row[3] = (row[3] == \"TRUE\")\n",
    "    if row[4] == 'None':\n",
    "        row[4] = None\n",
    "    row[5] = int(row[5])"
   ]
  },
  {
   "cell_type": "markdown",
   "metadata": {},
   "source": [
    "Now we'll look at the number of people who use the different languages and the proportion of them within the dataset."
   ]
  },
  {
   "cell_type": "code",
   "execution_count": 39,
   "metadata": {},
   "outputs": [
    {
     "name": "stdout",
     "output_type": "stream",
     "text": [
      "Number of Python users: 21860 and proportion is: 0.84\n",
      "Number of R users: 5335 and proportion is: 0.21\n",
      "Number of SQL users: 10757 and proportion is: 0.41\n"
     ]
    }
   ],
   "source": [
    "#Initializing count of different users\n",
    "n_py = 0\n",
    "n_r = 0\n",
    "n_sql = 0\n",
    "l = len(survey_responses)\n",
    "\n",
    "#finding the number of users for each language\n",
    "for row in survey_responses:\n",
    "    if row[1]:\n",
    "        n_py += 1\n",
    "    if row[2]:\n",
    "        n_r += 1\n",
    "    if row[3]:\n",
    "        n_sql += 1\n",
    "        \n",
    "# Finding the proportion of users of each \n",
    "#language within the dataset\n",
    "\n",
    "prop_py = n_py/l\n",
    "prop_r = n_r/l\n",
    "prop_sql = n_sql/l\n",
    "\n",
    "#Printing the result\n",
    "print(f\"Number of Python users: {n_py} and proportion is: {prop_py:.2f}\")\n",
    "print(f\"Number of R users: {n_r} and proportion is: {prop_r:.2f}\")\n",
    "print(f\"Number of SQL users: {n_sql} and proportion is: {prop_sql:.2f}\")"
   ]
  },
  {
   "cell_type": "markdown",
   "metadata": {},
   "source": [
    "* Python users are the highest and is more than the other two combined so it's safe to say Python is the preferred language for data professionals"
   ]
  },
  {
   "cell_type": "code",
   "execution_count": 40,
   "metadata": {},
   "outputs": [
    {
     "name": "stdout",
     "output_type": "stream",
     "text": [
      "[[6.1, True, False, True, 'Scikit-learn', 124267], [12.3, True, True, True, 'Scikit-learn', 236889], [2.2, True, False, False, None, 74321], [2.7, False, False, True, None, 62593], [1.2, True, False, False, 'Scikit-learn', 36288]]\n"
     ]
    }
   ],
   "source": [
    "print(survey_responses[0:5])"
   ]
  },
  {
   "cell_type": "markdown",
   "metadata": {},
   "source": [
    "Next up, we will be looking at the data of experience and compensation.\n",
    "In the next cell, we will be collecting some general insights about these datapoints."
   ]
  },
  {
   "cell_type": "code",
   "execution_count": 41,
   "metadata": {},
   "outputs": [
    {
     "name": "stdout",
     "output_type": "stream",
     "text": [
      "30.0 is the maximum experience in the list, 0.0 is the lowest experience in the list and 5.30 is the average experience in the dataset.\n",
      "1492951 is the maximum compensation received by someone in the dataset, 0 is the lowest compensation in the list and 53252.82 is the average compensation in the dataset\n"
     ]
    }
   ],
   "source": [
    "#Intitializing lists\n",
    "experience_coding = []\n",
    "compensation = []\n",
    "\n",
    "#Adding the relevant data from the dataset into the lists\n",
    "for row in survey_responses:\n",
    "    experience_coding.append(row[0])\n",
    "    compensation.append(row[-1])\n",
    "\n",
    "#Here, we will be finding some stats about the\n",
    "#experience of the data science professionals\n",
    "max_exp = max(experience_coding)\n",
    "min_exp = min(experience_coding)\n",
    "avg_exp = sum(experience_coding)/len(experience_coding)\n",
    "\n",
    "desc_exp = f\"{max_exp} is the maximum experience in the list, {min_exp} is the lowest experience in the list and {avg_exp:.2f} is the average experience in the dataset.\"\n",
    "\n",
    "#Finding stats about the compensation data\n",
    "max_comp = max(compensation)\n",
    "min_comp = min(compensation)\n",
    "avg_comp = sum(compensation)/len(compensation)\n",
    "\n",
    "desc_comp = f\"{max_comp} is the maximum compensation received by someone in the dataset, {min_comp} is the lowest compensation in the list and {avg_comp:.2f} is the average compensation in the dataset\"\n",
    "\n",
    "print(desc_exp)\n",
    "print(desc_comp)\n"
   ]
  },
  {
   "cell_type": "markdown",
   "metadata": {},
   "source": [
    "Next up, we will be dividing the people into different categories based on their years of experience to find out the general relationship between experience and compensation"
   ]
  },
  {
   "cell_type": "code",
   "execution_count": 42,
   "metadata": {},
   "outputs": [],
   "source": [
    "# Adding a new column name\n",
    "column_names.append(\"Experience Category\")\n",
    "\n",
    "#Adding the experience category value for each row\n",
    "for row in survey_responses:\n",
    "    if row[0]<5:\n",
    "        row.append(\"Junior\")\n",
    "    elif row[0]<10:\n",
    "        row.append(\"Intermediate\")\n",
    "    elif row[0]<15:\n",
    "        row.append(\"Senior\")\n",
    "    elif row[0]<20:\n",
    "        row.append(\"Expert\")\n",
    "    elif row[0]>=20:\n",
    "        row.append(\"Scholar\")"
   ]
  },
  {
   "cell_type": "code",
   "execution_count": 43,
   "metadata": {},
   "outputs": [
    {
     "data": {
      "text/plain": [
       "[[6.1, True, False, True, 'Scikit-learn', 124267, 'Intermediate'],\n",
       " [12.3, True, True, True, 'Scikit-learn', 236889, 'Senior'],\n",
       " [2.2, True, False, False, None, 74321, 'Junior'],\n",
       " [2.7, False, False, True, None, 62593, 'Junior'],\n",
       " [1.2, True, False, False, 'Scikit-learn', 36288, 'Junior']]"
      ]
     },
     "execution_count": 43,
     "metadata": {},
     "output_type": "execute_result"
    }
   ],
   "source": [
    "survey_responses[:5]"
   ]
  },
  {
   "cell_type": "code",
   "execution_count": 44,
   "metadata": {},
   "outputs": [],
   "source": [
    "#Here, we will be collecting the compensation of \n",
    "#each experience category into separate lists for\n",
    "#easier calculation\n",
    "junior = []\n",
    "intermediate = []\n",
    "senior = []\n",
    "expert = []\n",
    "scholar = []\n",
    "\n",
    "for row in survey_responses:\n",
    "    if row[-1] == 'Junior':\n",
    "        junior.append(row[-2])\n",
    "    elif row[-1] == 'Intermediate':\n",
    "        intermediate.append(row[-2])\n",
    "    elif row[-1] == 'Senior':\n",
    "        senior.append(row[-2])\n",
    "    elif row[-1] == 'Expert':\n",
    "        expert.append(row[-2])\n",
    "    else:\n",
    "        scholar.append(row[-2])\n"
   ]
  },
  {
   "cell_type": "code",
   "execution_count": 45,
   "metadata": {},
   "outputs": [],
   "source": [
    "#Creating strings that describe the collected data\n",
    "jun_desc = f\"There are {len(junior)} people who have 0-5 years experience. They get an average salary of {sum(junior)/len(junior):.2f}.\"\n",
    "int_desc = f\"There are {len(intermediate)} people who have 5-10 years experience. They get an average salary of {sum(intermediate)/len(intermediate):.2f}.\"\n",
    "sen_desc = f\"There are {len(senior)} people who have 10-15 years experience. They get an average salary of {sum(senior)/len(senior):.2f}.\"\n",
    "exp_desc = f\"There are {len(expert)} people who have 15-20 years experience. They get an average salary of {sum(expert)/len(expert):.2f}.\"\n",
    "sch_desc = f\"There are {len(scholar)} people who have 20+ years experience. They get an average salary of {sum(scholar)/len(scholar):.2f}.\""
   ]
  },
  {
   "cell_type": "code",
   "execution_count": 46,
   "metadata": {},
   "outputs": [
    {
     "name": "stdout",
     "output_type": "stream",
     "text": [
      "There are 18753 people who have 0-5 years experience. They get an average salary of 45047.87.\n",
      "There are 3167 people who have 5-10 years experience. They get an average salary of 59312.82.\n",
      "There are 1118 people who have 10-15 years experience. They get an average salary of 80226.76.\n",
      "There are 1069 people who have 15-20 years experience. They get an average salary of 75101.83.\n",
      "There are 1866 people who have 20+ years experience. They get an average salary of 96747.88.\n"
     ]
    }
   ],
   "source": [
    "print(jun_desc)\n",
    "print(int_desc)\n",
    "print(sen_desc)\n",
    "print(exp_desc)\n",
    "print(sch_desc)"
   ]
  },
  {
   "cell_type": "markdown",
   "metadata": {},
   "source": [
    "* The distribution is very uneven as the new boom in AI and Machine Learning has brought a huge number of new people into the field as is evidenced by the huge difference between the numbers in the 0-10 yer group and the rest.\n",
    "\n",
    "* The compensation increases based on experience as can be seen. Butm there is a slight anomaly in the 15-20 year category, as the average compensation is lower than the 10-15 group. The 20+ group however has a higher average compensation than both 10-15 and 15-20 year groups, so the trend is followed there.\n",
    "\n",
    "* There is quite a high jump in compensation from the 5-10 group and 10-15 group. Then the 15-20 group has quite lesser average compensation. This could be because of the less representation of these groups as is evident.\n",
    "\n",
    "* The most extreme value that can be seen is the 18753 people in the 0-5 year category which is more than twice the sum of all the other categories. This could be attributed to the recent boom in AI and Machine Learning. "
   ]
  },
  {
   "cell_type": "markdown",
   "metadata": {},
   "source": [
    "Now, we'll look at the number of programming languages each person knows and compare the compensation with that"
   ]
  },
  {
   "cell_type": "code",
   "execution_count": 47,
   "metadata": {},
   "outputs": [],
   "source": [
    "#Adding a new attribute which gives the number\n",
    "#of programming languages known to each of them.\n",
    "for row in survey_responses:\n",
    "    num_pro = 0\n",
    "    for column in row:\n",
    "        if type(column) == bool:\n",
    "            if column:\n",
    "                num_pro += 1\n",
    "    row.append(num_pro)\n",
    "\n",
    "column_names.append(\"number_of_known_languages\")\n",
    "        "
   ]
  },
  {
   "cell_type": "code",
   "execution_count": 48,
   "metadata": {},
   "outputs": [
    {
     "data": {
      "text/plain": [
       "[[6.1, True, False, True, 'Scikit-learn', 124267, 'Intermediate', 2],\n",
       " [12.3, True, True, True, 'Scikit-learn', 236889, 'Senior', 3],\n",
       " [2.2, True, False, False, None, 74321, 'Junior', 1],\n",
       " [2.7, False, False, True, None, 62593, 'Junior', 1],\n",
       " [1.2, True, False, False, 'Scikit-learn', 36288, 'Junior', 1]]"
      ]
     },
     "execution_count": 48,
     "metadata": {},
     "output_type": "execute_result"
    }
   ],
   "source": [
    "survey_responses[:5]"
   ]
  },
  {
   "cell_type": "code",
   "execution_count": 49,
   "metadata": {},
   "outputs": [
    {
     "data": {
      "text/plain": [
       "[74321, 62593, 36288, 61302, 18858]"
      ]
     },
     "execution_count": 49,
     "metadata": {},
     "output_type": "execute_result"
    }
   ],
   "source": [
    "#Now let's create three new lists which will store\n",
    "#the compensation according to the number of languages\n",
    "#they know.\n",
    "\n",
    "one = []\n",
    "two = []\n",
    "three = []\n",
    "\n",
    "for row in survey_responses:\n",
    "    if row[-1] == 1:\n",
    "        one.append(row[-3])\n",
    "    elif row[-1] == 2:\n",
    "        two.append(row[-3])\n",
    "    else:\n",
    "        three.append(row[-3])\n",
    "        \n",
    "        \n",
    "one[:5]"
   ]
  },
  {
   "cell_type": "code",
   "execution_count": 50,
   "metadata": {},
   "outputs": [
    {
     "name": "stdout",
     "output_type": "stream",
     "text": [
      "The average compensation of 11761 professionals who know just one language is 52435.36.\n",
      "The average compensation of 8927 professionals who know two languages is 54821.63.\n",
      "The average compensation of 5285 professionals who know three languages is 52422.03.\n"
     ]
    }
   ],
   "source": [
    "print(f\"The average compensation of {len(one)} professionals who know just one language is {sum(one)/len(one):.2f}.\")\n",
    "print(f\"The average compensation of {len(two)} professionals who know two languages is {sum(two)/len(two):.2f}.\")\n",
    "print(f\"The average compensation of {len(three)} professionals who know three languages is {sum(three)/len(three):.2f}.\")"
   ]
  },
  {
   "cell_type": "markdown",
   "metadata": {},
   "source": [
    "* The number of people who use just one language is very high compared to the other two categories.\n",
    "\n",
    "* There is no real correlation between the number of languages used and the compensation being received as per this data."
   ]
  },
  {
   "cell_type": "markdown",
   "metadata": {},
   "source": [
    "Let's see if there's a difference in compensation between those who know python and those who don't"
   ]
  },
  {
   "cell_type": "code",
   "execution_count": 51,
   "metadata": {},
   "outputs": [],
   "source": [
    "knows_python = []\n",
    "no_python = []\n",
    "\n",
    "for row in survey_responses:\n",
    "    if row[1]:\n",
    "        knows_python.append(row[5])\n",
    "    else:\n",
    "        no_python.append(row[5])\n"
   ]
  },
  {
   "cell_type": "code",
   "execution_count": 56,
   "metadata": {},
   "outputs": [
    {
     "name": "stdout",
     "output_type": "stream",
     "text": [
      "The average compensation of 21860 people who use Python is, 54331.17.\n",
      "The average compensation of 4113 people who don't use Python is, 47521.53.\n"
     ]
    }
   ],
   "source": [
    "print(f\"The average compensation of {len(knows_python)} people who use Python is, {sum(knows_python)/len(knows_python):.2f}.\")\n",
    "print(f\"The average compensation of {len(no_python)} people who don't use Python is, {sum(no_python)/len(no_python):.2f}.\")"
   ]
  },
  {
   "cell_type": "markdown",
   "metadata": {},
   "source": [
    "* There is a big difference between the number of people who use Python and don't revealing again that it is the most popular language for data science.\n",
    "\n",
    "* We can see that there is an evident gap in compensation between those people who use Python and those who don't. People who know Python earn roughly $7000 more on average per year which can be said to be substantial"
   ]
  },
  {
   "cell_type": "code",
   "execution_count": null,
   "metadata": {},
   "outputs": [],
   "source": []
  }
 ],
 "metadata": {
  "kernelspec": {
   "display_name": "Python 3 (ipykernel)",
   "language": "python",
   "name": "python3"
  },
  "language_info": {
   "codemirror_mode": {
    "name": "ipython",
    "version": 3
   },
   "file_extension": ".py",
   "mimetype": "text/x-python",
   "name": "python",
   "nbconvert_exporter": "python",
   "pygments_lexer": "ipython3",
   "version": "3.10.6"
  }
 },
 "nbformat": 4,
 "nbformat_minor": 4
}
